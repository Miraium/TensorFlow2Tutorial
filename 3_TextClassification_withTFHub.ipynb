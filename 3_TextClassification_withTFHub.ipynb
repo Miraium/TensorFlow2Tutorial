{
 "cells": [
  {
   "cell_type": "markdown",
   "metadata": {},
   "source": [
    "# TensorFlow Hubを使ったテキスト分類\n",
    "\n",
    "映画レビューのポジティブorネガティブの2クラス分類を行うサンプル。\n",
    "このチュートリアルでは、TensorFlow HubとKerasを使った転移学習を行う。"
   ]
  },
  {
   "cell_type": "markdown",
   "metadata": {},
   "source": [
    "\n",
    "50000件の映画レビューテキストが含まれるIMDB datasetを使用する。\n",
    "25000件を訓練データとして、残りの25000件をテストデータとする。\n",
    "なお、訓練データとテストデータのポジティブorネガティブレビューの件数はそれぞれ同じになっており、バランスが取れている。(つまり、不均衡データではない、ということ。)\n",
    "\n",
    "このnotebookでは、TensorFlowでモデルを構築・訓練するのに`tf.keras`を使用する。そして、転移学習のライブラリ・プラットフォームであるTensorFlow Hubを用いる。\n",
    "\n",
    "より詳細なテキスト分類のチュートリアルは下記のMLCC Text Classification Guideを参照すること。\n",
    "https://developers.google.com/machine-learning/guides/text-classification/?hl=ja"
   ]
  },
  {
   "cell_type": "code",
   "execution_count": 1,
   "metadata": {
    "tags": []
   },
   "outputs": [
    {
     "output_type": "stream",
     "name": "stdout",
     "text": "Version:  2.1.0\nEager mode:  True\nHub version:  0.8.0\nGPU is available\n"
    }
   ],
   "source": [
    "import numpy as np\n",
    "\n",
    "import tensorflow as tf\n",
    "\n",
    "# !pip install -q tensorflow-hub\n",
    "# !pip install -q tfds-nightly\n",
    "# 代わりに以下のコマンドで事前に仮想環境にインストールしておく\n",
    "# conda install tensorflow-hub\n",
    "# conda install tensorflow-datasets\n",
    "import tensorflow_hub as hub\n",
    "import tensorflow_datasets as tfds\n",
    "\n",
    "print(\"Version: \", tf.__version__)\n",
    "print(\"Eager mode: \", tf.executing_eagerly())\n",
    "print(\"Hub version: \", hub.__version__)\n",
    "print(\"GPU is\", \"available\" if tf.config.experimental.list_physical_devices(\"GPU\") else \"NOT AVAILABLE\")"
   ]
  },
  {
   "cell_type": "markdown",
   "metadata": {},
   "source": [
    "## IMDB datasetのダウンロード"
   ]
  },
  {
   "cell_type": "code",
   "execution_count": 9,
   "metadata": {
    "tags": []
   },
   "outputs": [
    {
     "output_type": "stream",
     "name": "stdout",
     "text": "<_OptionsDataset shapes: ((), ()), types: (tf.string, tf.int64)>\n<_OptionsDataset shapes: ((), ()), types: (tf.string, tf.int64)>\n<_OptionsDataset shapes: ((), ()), types: (tf.string, tf.int64)>\n"
    }
   ],
   "source": [
    "# # 15000件を訓練に、10000件をValidationに、25000件を評価に使用する\n",
    "# チュートリアルのコードのままだとSlicing APIが動作しないようなので、\n",
    "# splitの引数を別途定義して入力している\n",
    "# 参考\n",
    "# https://stackoverflow.com/questions/59959438/keyerror-invalid-split-train80-available-splits-are-train\n",
    "split=[\n",
    "    tfds.Split.TRAIN.subsplit(tfds.percent[:60]),\n",
    "    tfds.Split.TRAIN.subsplit(tfds.percent[60:]),\n",
    "    tfds.Split.TEST\n",
    "]\n",
    "train_data, validation_data, test_data = tfds.load(\n",
    "    name=\"imdb_reviews\", \n",
    "    # split=('train[:60%]', 'train[60%:]', 'test'),\n",
    "    split=split,\n",
    "    as_supervised=True)\n",
    "print(train_data)\n",
    "print(validation_data)\n",
    "print(test_data)"
   ]
  },
  {
   "cell_type": "code",
   "execution_count": 10,
   "metadata": {},
   "outputs": [
    {
     "output_type": "execute_result",
     "data": {
      "text/plain": "<tf.Tensor: shape=(10,), dtype=string, numpy=\narray([b\"As a lifelong fan of Dickens, I have invariably been disappointed by adaptations of his novels.<br /><br />Although his works presented an extremely accurate re-telling of human life at every level in Victorian Britain, throughout them all was a pervasive thread of humour that could be both playful or sarcastic as the narrative dictated. In a way, he was a literary caricaturist and cartoonist. He could be serious and hilarious in the same sentence. He pricked pride, lampooned arrogance, celebrated modesty, and empathised with loneliness and poverty. It may be a clich\\xc3\\xa9, but he was a people's writer.<br /><br />And it is the comedy that is so often missing from his interpretations. At the time of writing, Oliver Twist is being dramatised in serial form on BBC television. All of the misery and cruelty is their, but non of the humour, irony, and savage lampoonery. The result is just a dark, dismal experience: the story penned by a journalist rather than a novelist. It's not really Dickens at all.<br /><br />'Oliver!', on the other hand, is much closer to the mark. The mockery of officialdom is perfectly interpreted, from the blustering beadle to the drunken magistrate. The classic stand-off between the beadle and Mr Brownlow, in which the law is described as 'a ass, a idiot' couldn't have been better done. Harry Secombe is an ideal choice.<br /><br />But the blinding cruelty is also there, the callous indifference of the state, the cold, hunger, poverty and loneliness are all presented just as surely as The Master would have wished.<br /><br />And then there is crime. Ron Moody is a treasure as the sleazy Jewish fence, whilst Oliver Reid has Bill Sykes to perfection.<br /><br />Perhaps not surprisingly, Lionel Bart - himself a Jew from London's east-end - takes a liberty with Fagin by re-interpreting him as a much more benign fellow than was Dicken's original. In the novel, he was utterly ruthless, sending some of his own boys to the gallows in order to protect himself (though he was also caught and hanged). Whereas in the movie, he is presented as something of a wayward father-figure, a sort of charitable thief rather than a corrupter of children, the latter being a long-standing anti-semitic sentiment. Otherwise, very few liberties are taken with Dickens's original. All of the most memorable elements are included. Just enough menace and violence is retained to ensure narrative fidelity whilst at the same time allowing for children' sensibilities. Nancy is still beaten to death, Bullseye narrowly escapes drowning, and Bill Sykes gets a faithfully graphic come-uppance.<br /><br />Every song is excellent, though they do incline towards schmaltz. Mark Lester mimes his wonderfully. Both his and my favourite scene is the one in which the world comes alive to 'who will buy'. It's schmaltzy, but it's Dickens through and through.<br /><br />I could go on. I could commend the wonderful set-pieces, the contrast of the rich and poor. There is top-quality acting from more British regulars than you could shake a stick at.<br /><br />I ought to give it 10 points, but I'm feeling more like Scrooge today. Soak it up with your Christmas dinner. No original has been better realised.\",\n       b\"Oh yeah! Jenna Jameson did it again! Yeah Baby! This movie rocks. It was one of the 1st movies i saw of her. And i have to say i feel in love with her, she was great in this move.<br /><br />Her performance was outstanding and what i liked the most was the scenery and the wardrobe it was amazing you can tell that they put a lot into the movie the girls cloth were amazing.<br /><br />I hope this comment helps and u can buy the movie, the storyline is awesome is very unique and i'm sure u are going to like it. Jenna amazed us once more and no wonder the movie won so many awards. Her make-up and wardrobe is very very sexy and the girls on girls scene is amazing. specially the one where she looks like an angel. It's a must see and i hope u share my interests\",\n       b\"I saw this film on True Movies (which automatically made me sceptical) but actually - it was good. Why? Not because of the amazing plot twists or breathtaking dialogue (of which there is little) but because actually, despite what people say I thought the film was accurate in it's depiction of teenagers dealing with pregnancy.<br /><br />It's NOT Dawson's Creek, they're not graceful, cool witty characters who breeze through sexuality with effortless knowledge. They're kids and they act like kids would. <br /><br />They're blunt, awkward and annoyingly confused about everything. Yes, this could be by accident and they could just be bad actors but I don't think so. Dermot Mulroney gives (when not trying to be cool) a very believable performance and I loved him for it. Patricia Arquette IS whiny and annoying, but she was pregnant and a teenagers? The combination of the two isn't exactly lavender on your pillow. The plot was VERY predictable and but so what? I believed them, his stress and inability to cope - her brave, yet slightly misguided attempts to bring them closer together. I think the characters, acted by anyone else, WOULD indeed have been annoying and unbelievable but they weren't. It reflects the surreality of the situation they're in, that he's sitting in class and she walks on campus with the baby. I felt angry at her for that, I felt angry at him for being such a child and for blaming her. I felt it all.<br /><br />In the end, I loved it and would recommend it.<br /><br />Watch out for the scene where Dermot Mulroney runs from the disastrous counselling session - career performance.\",\n       b'This was a wonderfully clever and entertaining movie that I shall never tire of watching many, many times. The casting was magnificent in matching up the young with the older characters. There are those of us out here who really do appreciate good actors and an intelligent story format. As for Judi Dench, she is beautiful and a gift to any kind of production in which she stars. I always make a point to see Judi Dench in all her performances. She is a superb actress and a pleasure to watch as each transformation of her character comes to life. I can only be grateful when I see such an outstanding picture for most of the motion pictures made more recently lack good characters, good scripts and good acting. The movie public needs heroes, not deviant manikins, who lack ingenuity and talent. How wonderful to see old favorites like Leslie Caron, Olympia Dukakis and Cleo Laine. I would like to see this movie win the awards it deserves. Thank you again for a tremendous night of entertainment. I congratulate the writer, director, producer, and all those who did such a fine job.',\n       b'I have no idea what the other reviewer is talking about- this was a wonderful movie, and created a sense of the era that feels like time travel. The characters are truly young, Mary is a strong match for Byron, Claire is juvenile and a tad annoying, Polidori is a convincing beaten-down sycophant... all are beautiful, curious, and decadent... not the frightening wrecks they are in Gothic.<br /><br />Gothic works as an independent piece of shock film, and I loved it for different reasons, but this works like a Merchant and Ivory film, and was from my readings the best capture of what the summer must have felt like. Romantic, yes, but completely rekindles my interest in the lives of Shelley and Byron every time I think about the film. One of my all-time favorites.',\n       b\"This was soul-provoking! I am an Iranian, and living in th 21st century, I didn't know that such big tribes have been living in such conditions at the time of my grandfather!<br /><br />You see that today, or even in 1925, on one side of the world a lady or a baby could have everything served for him or her clean and on-demand, but here 80 years ago, people ventured their life to go to somewhere with more grass. It's really interesting that these Persians bear those difficulties to find pasture for their sheep, but they lose many the sheep on their way.<br /><br />I praise the Americans who accompanied this tribe, they were as tough as Bakhtiari people.\",\n       b'Just because someone is under the age of 10 does not mean they are stupid. If your child likes this film you\\'d better have him/her tested. I am continually amazed at how so many people can be involved in something that turns out so bad. This \"film\" is a showcase for digital wizardry AND NOTHING ELSE. The writing is horrid. I can\\'t remember when I\\'ve heard such bad dialogue. The songs are beyond wretched. The acting is sub-par but then the actors were not given much. Who decided to employ Joey Fatone? He cannot sing and he is ugly as sin.<br /><br />The worst thing is the obviousness of it all. It is as if the writers went out of their way to make it all as stupid as possible. Great children\\'s movies are wicked, smart and full of wit - films like Shrek and Toy Story in recent years, Willie Wonka and The Witches to mention two of the past. But in the continual dumbing-down of American more are flocking to dreck like Finding Nemo (yes, that\\'s right), the recent Charlie & The Chocolate Factory and eye-crossing trash like Red Riding Hood.',\n       b\"I absolutely LOVED this movie when I was a kid. I cried every time I watched it. It wasn't weird to me. I totally identified with the characters. I would love to see it again (and hope I wont be disappointed!). Pufnstuf rocks!!!! I was really drawn in to the fantasy world. And to me the movie was loooong. I wonder if I ever saw the series and have confused them? The acting I thought was strong. I loved Jack Wilde. He was so dreamy to an 10 year old (when I first saw the movie, not in 1970. I can still remember the characters vividly. The flute was totally believable and I can still 'feel' the evil woods. Witchy poo was scary - I wouldn't want to cross her path.\",\n       b'A very close and sharp discription of the bubbling and dynamic emotional world of specialy one 18year old guy, that makes his first experiences in his gay love to an other boy, during an vacation with a part of his family.<br /><br />I liked this film because of his extremly clear and surrogated storytelling , with all this \"Sound-close-ups\" and quiet moments wich had been full of intensive moods.<br /><br />',\n       b\"This is the most depressing film I have ever seen. I first saw it as a child and even thinking about it now really upsets me. I know it was set in a time when life was hard and I know these people were poor and the crops were vital. Yes, I get all that. What I find hard to take is I can't remember one single light moment in the entire film. Maybe it was true to life, I don't know. I'm quite sure the acting was top notch and the direction and quality of filming etc etc was wonderful and I know that every film can't have a happy ending but as a family film it is dire in my opinion.<br /><br />I wouldn't recommend it to anyone who wants to be entertained by a film. I can't stress enough how this film affected me as a child. I was talking about it recently and all the sad memories came flooding back. I think it would have all but the heartless reaching for the Prozac.\"],\n      dtype=object)>"
     },
     "metadata": {},
     "execution_count": 10
    }
   ],
   "source": [
    "train_examples_batch, train_labels_batch = next(iter(train_data.batch(10)))\n",
    "train_examples_batch"
   ]
  },
  {
   "cell_type": "code",
   "execution_count": 11,
   "metadata": {},
   "outputs": [
    {
     "output_type": "execute_result",
     "data": {
      "text/plain": "<tf.Tensor: shape=(10,), dtype=int64, numpy=array([1, 1, 1, 1, 1, 1, 0, 1, 1, 0], dtype=int64)>"
     },
     "metadata": {},
     "execution_count": 11
    }
   ],
   "source": [
    "train_labels_batch"
   ]
  },
  {
   "cell_type": "markdown",
   "metadata": {},
   "source": [
    "# モデルの構築\n",
    "\n",
    "テキストデータを表現するのにembedding Layerを使ってベクトルに変換する。\n",
    "\n",
    "TensorFlow Hubには学習済みのtext embedding model(テキストtoベクトルのモデル)が用意されているので、それを利用する。  \n",
    "今回使用するモデル\n",
    "- https://tfhub.dev/google/tf2-preview/gnews-swivel-20dim/1\n",
    "\n",
    "その他の候補\n",
    "- https://tfhub.dev/google/tf2-preview/gnews-swivel-20dim-with-oov/1\n",
    "- https://tfhub.dev/google/tf2-preview/nnlm-en-dim50/1\n",
    "- https://tfhub.dev/google/tf2-preview/nnlm-en-dim128/1"
   ]
  },
  {
   "cell_type": "code",
   "execution_count": 12,
   "metadata": {},
   "outputs": [
    {
     "output_type": "execute_result",
     "data": {
      "text/plain": "<tf.Tensor: shape=(3, 20), dtype=float32, numpy=\narray([[ 3.9819887 , -4.4838037 ,  5.177359  , -2.3643482 , -3.2938678 ,\n        -3.5364532 , -2.4786978 ,  2.5525482 ,  6.688532  , -2.3076782 ,\n        -1.9807833 ,  1.1315885 , -3.0339816 , -0.7604128 , -5.743445  ,\n         3.4242578 ,  4.790099  , -4.03061   , -5.992149  , -1.7297493 ],\n       [ 3.4232912 , -4.230874  ,  4.1488533 , -0.29553518, -6.802391  ,\n        -2.5163853 , -4.4002395 ,  1.905792  ,  4.7512794 , -0.40538004,\n        -4.3401685 ,  1.0361497 ,  0.9744097 ,  0.71507156, -6.2657013 ,\n         0.16533905,  4.560262  , -1.3106939 , -3.1121316 , -2.1338716 ],\n       [ 3.8508697 , -5.003031  ,  4.8700504 , -0.04324996, -5.893603  ,\n        -5.2983093 , -4.004676  ,  4.1236343 ,  6.267754  ,  0.11632943,\n        -3.5934832 ,  0.8023905 ,  0.56146765,  0.9192484 , -7.3066816 ,\n         2.8202746 ,  6.2000837 , -3.5709393 , -4.564525  , -2.305622  ]],\n      dtype=float32)>"
     },
     "metadata": {},
     "execution_count": 12
    }
   ],
   "source": [
    "embedding = \"https://tfhub.dev/google/tf2-preview/gnews-swivel-20dim/1\"\n",
    "hub_layer = hub.KerasLayer(embedding, input_shape=[],\n",
    "                            dtype=tf.string, trainable=True)\n",
    "hub_layer(train_examples_batch[:3])"
   ]
  },
  {
   "cell_type": "code",
   "execution_count": 13,
   "metadata": {
    "tags": []
   },
   "outputs": [
    {
     "output_type": "stream",
     "name": "stdout",
     "text": "Model: \"sequential\"\n_________________________________________________________________\nLayer (type)                 Output Shape              Param #   \n=================================================================\nkeras_layer (KerasLayer)     (None, 20)                400020    \n_________________________________________________________________\ndense (Dense)                (None, 16)                336       \n_________________________________________________________________\ndense_1 (Dense)              (None, 1)                 17        \n=================================================================\nTotal params: 400,373\nTrainable params: 400,373\nNon-trainable params: 0\n_________________________________________________________________\n"
    }
   ],
   "source": [
    "# レイヤーができたのでモデルに組み込む\n",
    "model = tf.keras.Sequential()\n",
    "model.add(hub_layer)\n",
    "model.add(tf.keras.layers.Dense(16, activation=\"relu\"))\n",
    "model.add(tf.keras.layers.Dense(1))\n",
    "\n",
    "# 2層目のレイヤーのパラメータ数が336なのは\n",
    "# 1層目のレイヤー出力20 x 2層目ユニット数16 + 2層目ユニット数分のバイアス16 = 336\n",
    "model.summary()"
   ]
  },
  {
   "cell_type": "code",
   "execution_count": 15,
   "metadata": {},
   "outputs": [],
   "source": [
    "# モデルのコンパイル\n",
    "model.compile(optimizer=\"adam\",\n",
    "              loss=tf.keras.losses.BinaryCrossentropy(from_logits=True), \n",
    "              metrics=[\"accuracy\"])"
   ]
  },
  {
   "cell_type": "markdown",
   "metadata": {},
   "source": [
    "## モデルの訓練\n",
    "512のサンプルを用いて20epoch分の訓練を行う。"
   ]
  },
  {
   "cell_type": "code",
   "execution_count": 26,
   "metadata": {
    "tags": []
   },
   "outputs": [
    {
     "output_type": "stream",
     "name": "stdout",
     "text": "Epoch 1/20\n30/30 [==============================] - 4s 138ms/step - loss: 0.7471 - accuracy: 0.5101 - val_loss: 0.6847 - val_accuracy: 0.5686\nEpoch 2/20\n30/30 [==============================] - 3s 98ms/step - loss: 0.6483 - accuracy: 0.6089 - val_loss: 0.6152 - val_accuracy: 0.6327\nEpoch 3/20\n30/30 [==============================] - 3s 95ms/step - loss: 0.5937 - accuracy: 0.6583 - val_loss: 0.5764 - val_accuracy: 0.6765\nEpoch 4/20\n30/30 [==============================] - 3s 100ms/step - loss: 0.5542 - accuracy: 0.6956 - val_loss: 0.5443 - val_accuracy: 0.7205\nEpoch 5/20\n30/30 [==============================] - 3s 95ms/step - loss: 0.5140 - accuracy: 0.7307 - val_loss: 0.5078 - val_accuracy: 0.7347\nEpoch 6/20\n30/30 [==============================] - 3s 98ms/step - loss: 0.4769 - accuracy: 0.7622 - val_loss: 0.4751 - val_accuracy: 0.7692\nEpoch 7/20\n30/30 [==============================] - 3s 95ms/step - loss: 0.4390 - accuracy: 0.7905 - val_loss: 0.4429 - val_accuracy: 0.7842\nEpoch 8/20\n30/30 [==============================] - 3s 95ms/step - loss: 0.4033 - accuracy: 0.8117 - val_loss: 0.4152 - val_accuracy: 0.7956\nEpoch 9/20\n30/30 [==============================] - 3s 94ms/step - loss: 0.3666 - accuracy: 0.8302 - val_loss: 0.3893 - val_accuracy: 0.8146\nEpoch 10/20\n30/30 [==============================] - 3s 96ms/step - loss: 0.3360 - accuracy: 0.8525 - val_loss: 0.3677 - val_accuracy: 0.8296\nEpoch 11/20\n30/30 [==============================] - 3s 96ms/step - loss: 0.3087 - accuracy: 0.8655 - val_loss: 0.3509 - val_accuracy: 0.8370\nEpoch 12/20\n30/30 [==============================] - 3s 94ms/step - loss: 0.2839 - accuracy: 0.8799 - val_loss: 0.3365 - val_accuracy: 0.8459\nEpoch 13/20\n30/30 [==============================] - 3s 95ms/step - loss: 0.2636 - accuracy: 0.8917 - val_loss: 0.3263 - val_accuracy: 0.8466\nEpoch 14/20\n30/30 [==============================] - 3s 94ms/step - loss: 0.2456 - accuracy: 0.9011 - val_loss: 0.3161 - val_accuracy: 0.8577\nEpoch 15/20\n30/30 [==============================] - 3s 97ms/step - loss: 0.2292 - accuracy: 0.9111 - val_loss: 0.3102 - val_accuracy: 0.8582\nEpoch 16/20\n30/30 [==============================] - 3s 98ms/step - loss: 0.2120 - accuracy: 0.9158 - val_loss: 0.3046 - val_accuracy: 0.8625\nEpoch 17/20\n30/30 [==============================] - 3s 97ms/step - loss: 0.1971 - accuracy: 0.9259 - val_loss: 0.3020 - val_accuracy: 0.8619\nEpoch 18/20\n30/30 [==============================] - 3s 97ms/step - loss: 0.1857 - accuracy: 0.9300 - val_loss: 0.3014 - val_accuracy: 0.8604\nEpoch 19/20\n30/30 [==============================] - 3s 96ms/step - loss: 0.1761 - accuracy: 0.9359 - val_loss: 0.2967 - val_accuracy: 0.8702\nEpoch 20/20\n30/30 [==============================] - 3s 96ms/step - loss: 0.1636 - accuracy: 0.9429 - val_loss: 0.2960 - val_accuracy: 0.8678\n"
    }
   ],
   "source": [
    "history = model.fit(train_data.shuffle(10000).batch(512), \n",
    "                    epochs=20,\n",
    "                    validation_data=validation_data.batch(512),\n",
    "                    verbose=1)"
   ]
  },
  {
   "cell_type": "markdown",
   "metadata": {},
   "source": [
    "## モデルの評価"
   ]
  },
  {
   "cell_type": "code",
   "execution_count": 28,
   "metadata": {
    "tags": []
   },
   "outputs": [
    {
     "output_type": "stream",
     "name": "stdout",
     "text": "loss: 0.321\naccuracy: 0.854\n"
    }
   ],
   "source": [
    "results = model.evaluate(test_data.batch(512), verbose=2)\n",
    "for name, value in zip(model.metrics_names, results):\n",
    "    print(\"%s: %.3f\" % (name, value))"
   ]
  },
  {
   "cell_type": "code",
   "execution_count": null,
   "metadata": {},
   "outputs": [],
   "source": []
  }
 ],
 "metadata": {
  "language_info": {
   "codemirror_mode": {
    "name": "ipython",
    "version": 3
   },
   "file_extension": ".py",
   "mimetype": "text/x-python",
   "name": "python",
   "nbconvert_exporter": "python",
   "pygments_lexer": "ipython3",
   "version": 3
  },
  "orig_nbformat": 2,
  "kernelspec": {
   "name": "python_defaultSpec_1593859358339",
   "display_name": "Python 3.7.7 64-bit"
  }
 },
 "nbformat": 4,
 "nbformat_minor": 2
}