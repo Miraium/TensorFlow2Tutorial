{
 "cells": [
  {
   "cell_type": "markdown",
   "metadata": {},
   "source": [
    "# 1. 初心者のための TensorFlow 2.0 入門\n",
    "https://www.tensorflow.org/tutorials/quickstart/beginner?hl=ja"
   ]
  },
  {
   "cell_type": "code",
   "execution_count": 1,
   "metadata": {},
   "outputs": [],
   "source": [
    "# インポート\n",
    "from __future__  import absolute_import, division, print_function, unicode_literals\n",
    "import tensorflow as tf"
   ]
  },
  {
   "cell_type": "code",
   "execution_count": 7,
   "metadata": {
    "tags": []
   },
   "outputs": [],
   "source": [
    "# MNISTデータセットのロード\n",
    "mnist = tf.keras.datasets.mnist\n",
    "(x_train, y_train), (x_test, y_test) = mnist.load_data()\n",
    "# ロードしたデータは0~255の整数値になっている。浮動小数点数0~1.0に正規化\n",
    "# x_train, x_test = x_train / 255.0, x_test / 255.0 # Original\n",
    "x_train = x_train/255.0\n",
    "x_test = x_test/255.0"
   ]
  },
  {
   "cell_type": "markdown",
   "metadata": {},
   "source": [
    "層を積み重ねてモデル構築を行う。以下の例では、4つのレイヤーを積み重ねている。\n",
    "\n",
    "0. Flattenレイヤー: 入力データを列ベクトル化(28次元x28次元の入力を、784次元のベクトルに変換)\n",
    "0. Denseレイヤー: ユニット数を128とした密結合層(全結合層とも)。活性化関数はrelu。\n",
    "0. Dropoutレイヤー: 0.2の確率でランダムにユニットを消す(学習時)\n",
    "0. Denseレイヤー: ユニット数を10とした密結合層。活性化関数はsoftmax。ユニット数を10にしているのは最終クラス識別数が0~9の10クラス分類のため。\n",
    "\n",
    "その後、学習(訓練)のために、i)オプティマイザ(optimizer)、ii)損失関数(loss)、iii) 評価関数(metrics)を決める。"
   ]
  },
  {
   "cell_type": "code",
   "execution_count": 9,
   "metadata": {},
   "outputs": [],
   "source": [
    "# モデルを定義\n",
    "model = tf.keras.models.Sequential([\n",
    "    tf.keras.layers.Flatten(input_shape=(28, 28)),\n",
    "    tf.keras.layers.Dense(128, activation=\"relu\"),\n",
    "    tf.keras.layers.Dropout(0.2),\n",
    "    tf.keras.layers.Dense(10, activation=\"softmax\")\n",
    "    ])\n",
    "\n",
    "# モデルを学習する際の設定\n",
    "model.compile(optimizer='adam',\n",
    "              loss='sparse_categorical_crossentropy',\n",
    "              metrics=['accuracy'])"
   ]
  },
  {
   "cell_type": "markdown",
   "metadata": {},
   "source": [
    "`model.fit()` でモデルを学習(訓練)して、`model.evaluate()`で評価を行う。\n",
    "\n",
    "`model.evaluate()`の引数`verbose`は評価結果の表示方法のオプション(0,1,2のいずれかが使用可能)  \n",
    "参考: https://keras.io/ja/models/sequential/"
   ]
  },
  {
   "cell_type": "code",
   "execution_count": 16,
   "metadata": {
    "tags": []
   },
   "outputs": [
    {
     "output_type": "stream",
     "name": "stdout",
     "text": "Train on 60000 samples\nEpoch 1/5\n60000/60000 [==============================] - 2s 33us/sample - loss: 0.0673 - accuracy: 0.9786\nEpoch 2/5\n60000/60000 [==============================] - 2s 31us/sample - loss: 0.0594 - accuracy: 0.9811\nEpoch 3/5\n60000/60000 [==============================] - 2s 31us/sample - loss: 0.0537 - accuracy: 0.9822\nEpoch 4/5\n60000/60000 [==============================] - 2s 31us/sample - loss: 0.0485 - accuracy: 0.9840\nEpoch 5/5\n60000/60000 [==============================] - 2s 31us/sample - loss: 0.0458 - accuracy: 0.9846\n10000/10000 - 0s - loss: 0.0683 - accuracy: 0.9811\n"
    },
    {
     "output_type": "execute_result",
     "data": {
      "text/plain": "[0.06829840108529897, 0.9811]"
     },
     "metadata": {},
     "execution_count": 16
    }
   ],
   "source": [
    "model.fit(x_train, y_train, epochs=5)\n",
    "model.evaluate(x_test, y_test, verbose=2)"
   ]
  },
  {
   "cell_type": "code",
   "execution_count": null,
   "metadata": {},
   "outputs": [],
   "source": []
  }
 ],
 "metadata": {
  "language_info": {
   "codemirror_mode": {
    "name": "ipython",
    "version": 3
   },
   "file_extension": ".py",
   "mimetype": "text/x-python",
   "name": "python",
   "nbconvert_exporter": "python",
   "pygments_lexer": "ipython3",
   "version": 3
  },
  "orig_nbformat": 2,
  "kernelspec": {
   "name": "python_defaultSpec_1593528661930",
   "display_name": "Python 3.7.7 64-bit ('tensorflow2': conda)"
  }
 },
 "nbformat": 4,
 "nbformat_minor": 2
}