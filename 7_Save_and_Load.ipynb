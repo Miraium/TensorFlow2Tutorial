{
 "cells": [
  {
   "cell_type": "markdown",
   "metadata": {},
   "source": [
    "# モデルの保存と復元\n",
    "\n",
    "モデルは訓練中にも、訓練が終わった後も保存できる。\n",
    "訓練を中断したところから再開したり、他人とモデルを共有するのに役立つ。\n",
    "\n",
    "研究成果であるモデルや手法を公開する際、以下を共有するのが一般的。\n",
    "\n",
    "- モデルを構築するプログラム\n",
    "- 学習済みのモデルの重みあるいはパラメータ\n",
    "\n",
    "\n",
    "今回のチュートリアルでは、`tf.keras`を使った場合のモデルの保存を実行する。\n",
    "\n",
    "(Kerasではない)別のAPIを使う場合など、他のアプローチの場合は、以下を参照。  \n",
    "- [Save and Restore](https://www.tensorflow.org/guide/saved_model?hl=ja)\n",
    "- [Saving in eager](https://www.tensorflow.org/guide/eager?hl=ja#object-based_saving)"
   ]
  },
  {
   "cell_type": "code",
   "execution_count": 18,
   "metadata": {},
   "outputs": [
    {
     "output_type": "execute_result",
     "data": {
      "text/plain": "'2.1.0'"
     },
     "metadata": {},
     "execution_count": 18
    }
   ],
   "source": [
    "from __future__ import absolute_import, division, print_function, unicode_literals\n",
    "\n",
    "import os\n",
    "os.environ[\"CUDA_VISIBLE_DEVICES\"] = \"-1\"\n",
    "import tensorflow as tf\n",
    "from tensorflow import keras\n",
    "\n",
    "tf.__version__"
   ]
  },
  {
   "cell_type": "code",
   "execution_count": 19,
   "metadata": {},
   "outputs": [],
   "source": [
    "(train_images, train_labels), (test_images, test_labels) = tf.keras.datasets.mnist.load_data()\n",
    "\n",
    "train_labels = train_labels[:1000]\n",
    "test_labels = test_labels[:1000]\n",
    "\n",
    "train_images = train_images[:1000].reshape(-1, 28 * 28) / 255.0\n",
    "test_images = test_images[:1000].reshape(-1, 28 * 28) / 255.0"
   ]
  },
  {
   "cell_type": "markdown",
   "metadata": {},
   "source": [
    "## モデルの定義\n",
    "\n",
    "重みの保存と読み込みのデモを行うための簡単なモデルを定義"
   ]
  },
  {
   "cell_type": "code",
   "execution_count": 20,
   "metadata": {
    "tags": []
   },
   "outputs": [
    {
     "output_type": "stream",
     "name": "stdout",
     "text": "Model: \"sequential_7\"\n_________________________________________________________________\nLayer (type)                 Output Shape              Param #   \n=================================================================\ndense_14 (Dense)             (None, 512)               401920    \n_________________________________________________________________\ndropout_7 (Dropout)          (None, 512)               0         \n_________________________________________________________________\ndense_15 (Dense)             (None, 10)                5130      \n=================================================================\nTotal params: 407,050\nTrainable params: 407,050\nNon-trainable params: 0\n_________________________________________________________________\n"
    }
   ],
   "source": [
    "def create_model():\n",
    "    model = tf.keras.models.Sequential([\n",
    "        keras.layers.Dense(512, activation=\"relu\", input_shape=(784,)),\n",
    "        keras.layers.Dropout(0.2),\n",
    "        keras.layers.Dense(10, activation=\"softmax\")\n",
    "    ])\n",
    "    \n",
    "    model.compile(optimizer=\"adam\",\n",
    "                  loss=\"sparse_categorical_crossentropy\",\n",
    "                  metrics=[\"accuracy\"])\n",
    "    return model\n",
    "\n",
    "# 基本的なモデルのインスタンスを作る\n",
    "model = create_model()\n",
    "model.summary()"
   ]
  },
  {
   "cell_type": "markdown",
   "metadata": {},
   "source": [
    "## 訓練中にチェックポイントを保存する\n",
    "\n",
    "`tf.keras.callbacks.ModelCheckpoint`コールバックを使用すると、チェックポイントを自動的に保存することができる。\n",
    "再び訓練を行うことなくモデルを使用したり、訓練が中断された際に、途中から再開できる。\n",
    "\n",
    "### チェックポイントコールバックの使い方\n",
    "\n",
    "モデルの訓練時に、`ModelCheckpoint`を渡す。"
   ]
  },
  {
   "cell_type": "code",
   "execution_count": 21,
   "metadata": {
    "tags": []
   },
   "outputs": [
    {
     "output_type": "stream",
     "name": "stdout",
     "text": "Train on 1000 samples, validate on 1000 samples\nEpoch 1/10\n 576/1000 [================>.............] - ETA: 0s - loss: 1.4959 - accuracy: 0.5729\nEpoch 00001: saving model to training_1/cp.ckpt\n1000/1000 [==============================] - 1s 506us/sample - loss: 1.1571 - accuracy: 0.6710 - val_loss: 0.7703 - val_accuracy: 0.7500\nEpoch 2/10\n 576/1000 [================>.............] - ETA: 0s - loss: 0.4356 - accuracy: 0.8646\nEpoch 00002: saving model to training_1/cp.ckpt\n1000/1000 [==============================] - 0s 168us/sample - loss: 0.4277 - accuracy: 0.8770 - val_loss: 0.5137 - val_accuracy: 0.8480\nEpoch 3/10\n 608/1000 [=================>............] - ETA: 0s - loss: 0.3212 - accuracy: 0.9145\nEpoch 00003: saving model to training_1/cp.ckpt\n1000/1000 [==============================] - 0s 170us/sample - loss: 0.2962 - accuracy: 0.9230 - val_loss: 0.4717 - val_accuracy: 0.8510\nEpoch 4/10\n 928/1000 [==========================>...] - ETA: 0s - loss: 0.2117 - accuracy: 0.9526\nEpoch 00004: saving model to training_1/cp.ckpt\n1000/1000 [==============================] - 0s 193us/sample - loss: 0.2114 - accuracy: 0.9530 - val_loss: 0.4531 - val_accuracy: 0.8610\nEpoch 5/10\n 640/1000 [==================>...........] - ETA: 0s - loss: 0.1432 - accuracy: 0.9734\nEpoch 00005: saving model to training_1/cp.ckpt\n1000/1000 [==============================] - 0s 166us/sample - loss: 0.1486 - accuracy: 0.9720 - val_loss: 0.4323 - val_accuracy: 0.8600\nEpoch 6/10\n 608/1000 [=================>............] - ETA: 0s - loss: 0.1245 - accuracy: 0.9688\nEpoch 00006: saving model to training_1/cp.ckpt\n1000/1000 [==============================] - 0s 174us/sample - loss: 0.1246 - accuracy: 0.9700 - val_loss: 0.4573 - val_accuracy: 0.8550\nEpoch 7/10\n 640/1000 [==================>...........] - ETA: 0s - loss: 0.0856 - accuracy: 0.9906\nEpoch 00007: saving model to training_1/cp.ckpt\n1000/1000 [==============================] - 0s 163us/sample - loss: 0.0872 - accuracy: 0.9890 - val_loss: 0.4547 - val_accuracy: 0.8640\nEpoch 8/10\n 608/1000 [=================>............] - ETA: 0s - loss: 0.0638 - accuracy: 0.9918\nEpoch 00008: saving model to training_1/cp.ckpt\n1000/1000 [==============================] - 0s 162us/sample - loss: 0.0654 - accuracy: 0.9920 - val_loss: 0.4285 - val_accuracy: 0.8590\nEpoch 9/10\n 608/1000 [=================>............] - ETA: 0s - loss: 0.0506 - accuracy: 1.0000\nEpoch 00009: saving model to training_1/cp.ckpt\n1000/1000 [==============================] - 0s 167us/sample - loss: 0.0476 - accuracy: 0.9990 - val_loss: 0.4076 - val_accuracy: 0.8700\nEpoch 10/10\n 576/1000 [================>.............] - ETA: 0s - loss: 0.0391 - accuracy: 1.0000\nEpoch 00010: saving model to training_1/cp.ckpt\n1000/1000 [==============================] - 0s 176us/sample - loss: 0.0368 - accuracy: 1.0000 - val_loss: 0.4215 - val_accuracy: 0.8680\n"
    },
    {
     "output_type": "execute_result",
     "data": {
      "text/plain": "<tensorflow.python.keras.callbacks.History at 0x15c11e0c9c8>"
     },
     "metadata": {},
     "execution_count": 21
    }
   ],
   "source": [
    "checkpoint_path = \"training_1/cp.ckpt\"\n",
    "checkpint_dir = os.path.dirname(checkpoint_path)\n",
    "\n",
    "# チェックポイントコールバックを作る\n",
    "cp_callback = tf.keras.callbacks.ModelCheckpoint(checkpoint_path,\n",
    "                                                 save_weights_only=True,\n",
    "                                                 verbose=1)\n",
    "model = create_model()\n",
    "\n",
    "model.fit(train_images, train_labels, epochs=10,\n",
    "          validation_data=(test_images, test_labels),\n",
    "          callbacks=[cp_callback]) # 訓練にコールバックを渡す"
   ]
  },
  {
   "cell_type": "code",
   "execution_count": 22,
   "metadata": {
    "tags": []
   },
   "outputs": [
    {
     "output_type": "stream",
     "name": "stderr",
     "text": "'ls' �́A�����R�}���h�܂��͊O���R�}���h�A\n����\\�ȃv���O�����܂��̓o�b�` �t�@�C���Ƃ��ĔF������Ă��܂���B\n"
    }
   ],
   "source": [
    "!ls {checkpint_dir}"
   ]
  },
  {
   "cell_type": "markdown",
   "metadata": {},
   "source": [
    "新しいモデルを作成する。ただし、保存した重みをロードできるように同じアーキテクチャになっている必要がある。(関数を使って同じアーキテクチャを作成すればよい。)\n",
    "\n",
    "まずは学習をせずに評価を行う。続いて、チェックポイントから重みをロードしてから評価を行う。"
   ]
  },
  {
   "cell_type": "code",
   "execution_count": 23,
   "metadata": {
    "tags": []
   },
   "outputs": [
    {
     "output_type": "stream",
     "name": "stdout",
     "text": "1000/1000 - 0s - loss: 2.3685 - accuracy: 0.0710\nUntrained model, accuracy:  7.10\n"
    }
   ],
   "source": [
    "model = create_model()\n",
    "\n",
    "loss, acc = model.evaluate(test_images, test_labels, verbose=2)\n",
    "print(\"Untrained model, accuracy: {:5.2f}\".format(100*acc))"
   ]
  },
  {
   "cell_type": "code",
   "execution_count": 24,
   "metadata": {
    "tags": []
   },
   "outputs": [
    {
     "output_type": "stream",
     "name": "stdout",
     "text": "1000/1000 - 0s - loss: 0.4215 - accuracy: 0.8680\nRestored model, accuracy: 86.80\n"
    }
   ],
   "source": [
    "model.load_weights(checkpoint_path)\n",
    "loss, acc = model.evaluate(test_images, test_labels, verbose=2)\n",
    "print(\"Restored model, accuracy: {:5.2f}\".format(100*acc))"
   ]
  },
  {
   "cell_type": "markdown",
   "metadata": {},
   "source": [
    "### チェックポイントコールバックのオプション\n",
    "\n",
    "このコールバックには、チェックポイントに一意な名前をつけたり、チェックポイントの頻度を調整するためのオプションがある。\n",
    "\n",
    "新しいモデルを訓練し、5エポックごとに一意な名前のチェックポイントを保存する。"
   ]
  },
  {
   "cell_type": "code",
   "execution_count": 25,
   "metadata": {
    "tags": []
   },
   "outputs": [
    {
     "output_type": "stream",
     "name": "stdout",
     "text": "WARNING:tensorflow:`period` argument is deprecated. Please use `save_freq` to specify the frequency in number of samples seen.\nWARNING:tensorflow:Unresolved object in checkpoint: (root).optimizer.iter\nWARNING:tensorflow:Unresolved object in checkpoint: (root).optimizer.beta_1\nWARNING:tensorflow:Unresolved object in checkpoint: (root).optimizer.beta_2\nWARNING:tensorflow:Unresolved object in checkpoint: (root).optimizer.decay\nWARNING:tensorflow:Unresolved object in checkpoint: (root).optimizer.learning_rate\nWARNING:tensorflow:A checkpoint was restored (e.g. tf.train.Checkpoint.restore or tf.keras.Model.load_weights) but not all checkpointed values were used. See above for specific issues. Use expect_partial() on the load status object, e.g. tf.train.Checkpoint.restore(...).expect_partial(), to silence these warnings, or use assert_consumed() to make the check explicit. See https://www.tensorflow.org/guide/checkpoint#loading_mechanics for details.\nWARNING:tensorflow:Unresolved object in checkpoint: (root).optimizer.iter\nWARNING:tensorflow:Unresolved object in checkpoint: (root).optimizer.beta_1\nWARNING:tensorflow:Unresolved object in checkpoint: (root).optimizer.beta_2\nWARNING:tensorflow:Unresolved object in checkpoint: (root).optimizer.decay\nWARNING:tensorflow:Unresolved object in checkpoint: (root).optimizer.learning_rate\nWARNING:tensorflow:A checkpoint was restored (e.g. tf.train.Checkpoint.restore or tf.keras.Model.load_weights) but not all checkpointed values were used. See above for specific issues. Use expect_partial() on the load status object, e.g. tf.train.Checkpoint.restore(...).expect_partial(), to silence these warnings, or use assert_consumed() to make the check explicit. See https://www.tensorflow.org/guide/checkpoint#loading_mechanics for details.\n\nEpoch 00005: saving model to training_2/cp-0005.ckpt\n\nEpoch 00010: saving model to training_2/cp-0010.ckpt\n\nEpoch 00015: saving model to training_2/cp-0015.ckpt\n\nEpoch 00020: saving model to training_2/cp-0020.ckpt\n\nEpoch 00025: saving model to training_2/cp-0025.ckpt\n\nEpoch 00030: saving model to training_2/cp-0030.ckpt\n\nEpoch 00035: saving model to training_2/cp-0035.ckpt\n\nEpoch 00040: saving model to training_2/cp-0040.ckpt\n\nEpoch 00045: saving model to training_2/cp-0045.ckpt\n\nEpoch 00050: saving model to training_2/cp-0050.ckpt\n"
    },
    {
     "output_type": "execute_result",
     "data": {
      "text/plain": "<tensorflow.python.keras.callbacks.History at 0x15c143b2708>"
     },
     "metadata": {},
     "execution_count": 25
    }
   ],
   "source": [
    "# ファイル名に(`str.format`を使って)エポック数を埋め込みます\n",
    "checkpoint_path = \"training_2/cp-{epoch:04d}.ckpt\"\n",
    "checkpoint_dir = os.path.dirname(checkpoint_path)\n",
    "\n",
    "cp_callback = tf.keras.callbacks.ModelCheckpoint(\n",
    "    checkpoint_path, verbose=1, save_weights_only=True,\n",
    "    # 重みを5エポックごとに保存します\n",
    "    period=5)\n",
    "\n",
    "model = create_model()\n",
    "model.fit(train_images, train_labels,\n",
    "          epochs = 50, callbacks = [cp_callback],\n",
    "          validation_data = (test_images,test_labels),\n",
    "          verbose=0)"
   ]
  },
  {
   "cell_type": "code",
   "execution_count": 26,
   "metadata": {
    "tags": []
   },
   "outputs": [
    {
     "output_type": "stream",
     "name": "stderr",
     "text": "'ls' �́A�����R�}���h�܂��͊O���R�}���h�A\n����\\�ȃv���O�����܂��̓o�b�` �t�@�C���Ƃ��ĔF������Ă��܂���B\n"
    }
   ],
   "source": [
    "! ls {checkpoint_dir}"
   ]
  },
  {
   "cell_type": "code",
   "execution_count": 27,
   "metadata": {},
   "outputs": [
    {
     "output_type": "execute_result",
     "data": {
      "text/plain": "'training_2\\\\cp-0050.ckpt'"
     },
     "metadata": {},
     "execution_count": 27
    }
   ],
   "source": [
    "# 最新のチェックポイントは以下の関数で取得できる\n",
    "latest = tf.train.latest_checkpoint(checkpoint_dir)\n",
    "latest"
   ]
  },
  {
   "cell_type": "code",
   "execution_count": 28,
   "metadata": {
    "tags": []
   },
   "outputs": [
    {
     "output_type": "stream",
     "name": "stdout",
     "text": "1000/1000 - 0s - loss: 0.4846 - accuracy: 0.8760\nRestored model, accuracy: 87.60%\n"
    }
   ],
   "source": [
    "model = create_model()\n",
    "model.load_weights(latest)\n",
    "loss, acc = model.evaluate(test_images,  test_labels, verbose=2)\n",
    "print(\"Restored model, accuracy: {:5.2f}%\".format(100*acc))"
   ]
  },
  {
   "cell_type": "markdown",
   "metadata": {},
   "source": [
    "## ここまでのまとめ\n",
    "\n",
    "上記のコードでは、重みだけをバイナリで`checkpoint`形式の一連のファイルで保存していた。\n",
    "このチェックポイントには、以下が含まれている。\n",
    "\n",
    "- 1つ以上のモデルの重みの断片\n",
    "- どの重みがどの断片に保存されているかを示すインデックスファイル"
   ]
  },
  {
   "cell_type": "markdown",
   "metadata": {},
   "source": [
    "## 手動で重みを保存する\n",
    "\n",
    "手動で重みを保存することも可能。`Model.save_weights`メソッドを使用する。"
   ]
  },
  {
   "cell_type": "code",
   "execution_count": 29,
   "metadata": {
    "tags": []
   },
   "outputs": [
    {
     "output_type": "stream",
     "name": "stdout",
     "text": "1000/1000 - 0s - loss: 0.4846 - accuracy: 0.8760\nRestored model, accuracy: 87.60%\n"
    }
   ],
   "source": [
    "model.save_weights(\"./checkpoints/my_checkpoint\")\n",
    "\n",
    "model = create_model()\n",
    "model.load_weights(\"./checkpoints/my_checkpoint\")\n",
    "\n",
    "loss,acc = model.evaluate(test_images,  test_labels, verbose=2)\n",
    "print(\"Restored model, accuracy: {:5.2f}%\".format(100*acc))"
   ]
  },
  {
   "cell_type": "markdown",
   "metadata": {},
   "source": [
    "## モデル全体の保存\n",
    "\n",
    "モデルとオプティマイザを、i)その状態（重みと変数）とii)モデルの設定の両方を含む1つのファイルに保存することができる。\n",
    "オプティマイザの状態が復元されるので、中断したところから再開できる。\n",
    "\n",
    "モデル全体を保存しておくと、TensorFlow.jsやTensorFlow Liteへの流用も可能。\n",
    "- https://www.tensorflow.org/js/tutorials/conversion/import_keras?hl=ja\n",
    "- https://www.tensorflow.org/js/tutorials/conversion/import_saved_model?hl=ja\n",
    "- https://www.tensorflow.org/lite/convert/python_api?hl=ja#exporting_a_tfkeras_file_\n",
    "- https://www.tensorflow.org/lite/convert/python_api?hl=ja#exporting_a_savedmodel_\n",
    "\n",
    "### HDF5ファイルとして\n",
    "\n",
    "Kerasでは、HDF55標準を使った基本的なファイルフォーマットが利用できる。\n",
    "保存されたモデルは単独のバイナリナージオブジェクト(blob)として扱うことができる。"
   ]
  },
  {
   "cell_type": "code",
   "execution_count": 30,
   "metadata": {
    "tags": []
   },
   "outputs": [
    {
     "output_type": "stream",
     "name": "stdout",
     "text": "Train on 1000 samples\nEpoch 1/5\n1000/1000 [==============================] - 0s 373us/sample - loss: 1.1515 - accuracy: 0.6890\nEpoch 2/5\n1000/1000 [==============================] - 0s 90us/sample - loss: 0.4261 - accuracy: 0.8810\nEpoch 3/5\n1000/1000 [==============================] - 0s 96us/sample - loss: 0.2866 - accuracy: 0.9270\nEpoch 4/5\n1000/1000 [==============================] - 0s 87us/sample - loss: 0.2159 - accuracy: 0.9440\nEpoch 5/5\n1000/1000 [==============================] - 0s 88us/sample - loss: 0.1596 - accuracy: 0.9670\n"
    }
   ],
   "source": [
    "model = create_model()\n",
    "\n",
    "model.fit(train_images, train_labels, epochs=5)\n",
    "\n",
    "model.save(\"my_model.h5\")"
   ]
  },
  {
   "cell_type": "code",
   "execution_count": 31,
   "metadata": {
    "tags": []
   },
   "outputs": [
    {
     "output_type": "stream",
     "name": "stdout",
     "text": "Model: \"sequential_13\"\n_________________________________________________________________\nLayer (type)                 Output Shape              Param #   \n=================================================================\ndense_26 (Dense)             (None, 512)               401920    \n_________________________________________________________________\ndropout_13 (Dropout)         (None, 512)               0         \n_________________________________________________________________\ndense_27 (Dense)             (None, 10)                5130      \n=================================================================\nTotal params: 407,050\nTrainable params: 407,050\nNon-trainable params: 0\n_________________________________________________________________\n"
    }
   ],
   "source": [
    "# 重みとオプティマイザを含む全く新しいモデルを再作成\n",
    "new_model = keras.models.load_model(\"my_model.h5\")\n",
    "new_model.summary()"
   ]
  },
  {
   "cell_type": "code",
   "execution_count": 32,
   "metadata": {
    "tags": []
   },
   "outputs": [
    {
     "output_type": "stream",
     "name": "stdout",
     "text": "1000/1000 - 0s - loss: 0.4186 - accuracy: 0.8650\nRestored model, accuracy: 86.50%\n"
    }
   ],
   "source": [
    "# 正解率を検査\n",
    "loss, acc = new_model.evaluate(test_images,  test_labels, verbose=2)\n",
    "print(\"Restored model, accuracy: {:5.2f}%\".format(100*acc))"
   ]
  },
  {
   "cell_type": "markdown",
   "metadata": {},
   "source": [
    "この方法では、次のすべてが保存される。\n",
    "\n",
    "- 重みの値\n",
    "- モデルの設定 (アーキテクチャ)\n",
    "- オプティマイザの設定\n",
    "\n",
    "Kerasは保存する際にアーキテクチャを調べます。いまのところ、TensorFlowのオプティマイザ（tf.trainに含まれるもの）を保存することはできません。TensorFlowのオプティマイザを使用している場合には、モデルをロードしたあと再コンパイルする必要があり、オプティマイザの状態は失われます。"
   ]
  },
  {
   "cell_type": "markdown",
   "metadata": {},
   "source": [
    "### saved_modelとして\n",
    "\n",
    "~~この手法による`tf.keras`モデルの保存は実験的なもので、将来のバージョンで変更される可能性がある。~~\n",
    "既にdeprecatedになっているため、以降のチュートリアルは割愛。"
   ]
  }
 ],
 "metadata": {
  "language_info": {
   "codemirror_mode": {
    "name": "ipython",
    "version": 3
   },
   "file_extension": ".py",
   "mimetype": "text/x-python",
   "name": "python",
   "nbconvert_exporter": "python",
   "pygments_lexer": "ipython3",
   "version": 3
  },
  "orig_nbformat": 2,
  "kernelspec": {
   "name": "python_defaultSpec_1594044398004",
   "display_name": "Python 3.7.7 64-bit ('tensorflow2': conda)"
  }
 },
 "nbformat": 4,
 "nbformat_minor": 2
}