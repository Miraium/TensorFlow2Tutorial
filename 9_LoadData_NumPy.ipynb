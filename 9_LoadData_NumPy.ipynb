{
 "cells": [
  {
   "cell_type": "markdown",
   "metadata": {},
   "source": [
    "# tf.dataを使ってNumPyデータをロードする\n",
    "\n",
    "このチュートリアルでは、NumPy配列から`tf.data.Dataset`にデータを読み込む。\n",
    "\n",
    "この例では、MNISTデータセットを`.npz`ファイルから読み込む。"
   ]
  },
  {
   "cell_type": "code",
   "execution_count": 1,
   "metadata": {},
   "outputs": [],
   "source": [
    "from __future__ import absolute_import, division, print_function, unicode_literals\n",
    "\n",
    "import numpy as np\n",
    "import tensorflow as tf\n",
    "import tensorflow_datasets as tdds"
   ]
  },
  {
   "cell_type": "code",
   "execution_count": 2,
   "metadata": {},
   "outputs": [],
   "source": [
    "DATA_URL = \"https://storage.googleapis.com/tensorflow/tf-keras-datasets/mnist.npz\"\n",
    "\n",
    "path = tf.keras.utils.get_file(\"mnist.npz\", DATA_URL)\n",
    "with np.load(path) as data:\n",
    "    train_examples = data[\"x_train\"]\n",
    "    train_labels = data[\"y_train\"]\n",
    "    test_examples = data[\"x_test\"]\n",
    "    test_labels = data[\"y_test\"]"
   ]
  },
  {
   "cell_type": "markdown",
   "metadata": {},
   "source": [
    "## tf.data.Datasetを使ってNumpy配列をロード\n",
    "\n",
    "サンプルの配列と対応するラベルの配列があるとする。\n",
    "`tf.data.Dataset.from_tensor_slices`にこれらの2つの配列をタプルとして入力し、`tf.data.Dataset`を作成する。"
   ]
  },
  {
   "cell_type": "code",
   "execution_count": 3,
   "metadata": {},
   "outputs": [],
   "source": [
    "train_dataset = tf.data.Dataset.from_tensor_slices((train_examples, train_labels))\n",
    "test_dataset = tf.data.Dataset.from_tensor_slices((test_examples, test_labels))"
   ]
  },
  {
   "cell_type": "markdown",
   "metadata": {},
   "source": [
    "## データセットの使用\n",
    "\n",
    "### データセットのシャッフルとバッチ化"
   ]
  },
  {
   "cell_type": "code",
   "execution_count": 4,
   "metadata": {},
   "outputs": [],
   "source": [
    "BATCH_SIZE = 64\n",
    "SHUFFLE_BUFFER_SIZE = 100\n",
    "\n",
    "train_dataset = train_dataset.shuffle(SHUFFLE_BUFFER_SIZE).batch(BATCH_SIZE)\n",
    "test_dataset = test_dataset.batch(BATCH_SIZE)"
   ]
  },
  {
   "cell_type": "markdown",
   "metadata": {},
   "source": [
    "### モデルの構築と訓練"
   ]
  },
  {
   "cell_type": "code",
   "execution_count": 5,
   "metadata": {},
   "outputs": [],
   "source": [
    "model = tf.keras.Sequential([\n",
    "    tf.keras.layers.Flatten(input_shape=(28, 28)),\n",
    "    tf.keras.layers.Dense(128, activation=\"relu\"),\n",
    "    tf.keras.layers.Dense(10, activation=\"softmax\")\n",
    "])\n",
    "model.compile(optimizer=tf.keras.optimizers.RMSprop(),\n",
    "              loss=tf.keras.losses.SparseCategoricalCrossentropy(),\n",
    "              metrics=[tf.keras.metrics.SparseCategoricalAccuracy()])"
   ]
  },
  {
   "cell_type": "code",
   "execution_count": 6,
   "metadata": {
    "tags": []
   },
   "outputs": [
    {
     "output_type": "stream",
     "name": "stdout",
     "text": "Train for 938 steps\nEpoch 1/10\n938/938 [==============================] - 2s 2ms/step - loss: 3.1716 - sparse_categorical_accuracy: 0.8816\nEpoch 2/10\n938/938 [==============================] - 2s 2ms/step - loss: 0.5182 - sparse_categorical_accuracy: 0.9302\nEpoch 3/10\n938/938 [==============================] - 2s 2ms/step - loss: 0.3730 - sparse_categorical_accuracy: 0.9492\nEpoch 4/10\n938/938 [==============================] - 2s 2ms/step - loss: 0.3093 - sparse_categorical_accuracy: 0.9579\nEpoch 5/10\n938/938 [==============================] - 2s 2ms/step - loss: 0.2683 - sparse_categorical_accuracy: 0.9634\nEpoch 6/10\n938/938 [==============================] - 2s 2ms/step - loss: 0.2497 - sparse_categorical_accuracy: 0.9672\nEpoch 7/10\n938/938 [==============================] - 2s 2ms/step - loss: 0.2333 - sparse_categorical_accuracy: 0.9705\nEpoch 8/10\n938/938 [==============================] - 2s 2ms/step - loss: 0.2173 - sparse_categorical_accuracy: 0.9716\nEpoch 9/10\n938/938 [==============================] - 2s 2ms/step - loss: 0.1976 - sparse_categorical_accuracy: 0.9735\nEpoch 10/10\n938/938 [==============================] - 2s 2ms/step - loss: 0.1957 - sparse_categorical_accuracy: 0.9759\n"
    },
    {
     "output_type": "execute_result",
     "data": {
      "text/plain": "<tensorflow.python.keras.callbacks.History at 0x1fdd2da2b08>"
     },
     "metadata": {},
     "execution_count": 6
    }
   ],
   "source": [
    "model.fit(train_dataset, epochs=10)"
   ]
  },
  {
   "cell_type": "code",
   "execution_count": 8,
   "metadata": {
    "tags": []
   },
   "outputs": [
    {
     "output_type": "stream",
     "name": "stdout",
     "text": "157/157 [==============================] - 0s 2ms/step - loss: 0.7465 - sparse_categorical_accuracy: 0.9536\n"
    },
    {
     "output_type": "execute_result",
     "data": {
      "text/plain": "[0.7465235993970118, 0.9536]"
     },
     "metadata": {},
     "execution_count": 8
    }
   ],
   "source": [
    "model.evaluate(test_dataset)"
   ]
  },
  {
   "cell_type": "code",
   "execution_count": null,
   "metadata": {},
   "outputs": [],
   "source": []
  }
 ],
 "metadata": {
  "language_info": {
   "codemirror_mode": {
    "name": "ipython",
    "version": 3
   },
   "file_extension": ".py",
   "mimetype": "text/x-python",
   "name": "python",
   "nbconvert_exporter": "python",
   "pygments_lexer": "ipython3",
   "version": 3
  },
  "orig_nbformat": 2,
  "kernelspec": {
   "name": "python_defaultSpec_1594357491096",
   "display_name": "Python 3.7.7 64-bit ('tensorflow2': conda)"
  }
 },
 "nbformat": 4,
 "nbformat_minor": 2
}